{
 "cells": [
  {
   "cell_type": "code",
   "execution_count": 1,
   "id": "cd7e32eb",
   "metadata": {},
   "outputs": [],
   "source": [
    "\n"
   ]
  },
  {
   "cell_type": "code",
   "execution_count": 4,
   "id": "ba983cdb",
   "metadata": {},
   "outputs": [
    {
     "ename": "SyntaxError",
     "evalue": "invalid syntax (<ipython-input-4-8409f80916ae>, line 2)",
     "output_type": "error",
     "traceback": [
      "\u001b[0;36m  File \u001b[0;32m\"<ipython-input-4-8409f80916ae>\"\u001b[0;36m, line \u001b[0;32m2\u001b[0m\n\u001b[0;31m    file location=(\"user/downloads\")\u001b[0m\n\u001b[0m         ^\u001b[0m\n\u001b[0;31mSyntaxError\u001b[0m\u001b[0;31m:\u001b[0m invalid syntax\n"
     ]
    }
   ],
   "source": []
  },
  {
   "cell_type": "code",
   "execution_count": 5,
   "id": "08a540bb",
   "metadata": {},
   "outputs": [
    {
     "name": "stdout",
     "output_type": "stream",
     "text": [
      "Current working directory before\n",
      "/Users/pankaj/Desktop\n",
      "\n",
      "Current working directory before\n",
      "/Users/pankaj\n",
      "\n"
     ]
    }
   ],
   "source": [
    "import os\n",
    "   \n",
    "# Function to Get the current \n",
    "# working directory\n",
    "def current_path():\n",
    "    print(\"Current working directory before\")\n",
    "    print(os.getcwd())\n",
    "    print()\n",
    "   \n",
    "   \n",
    "# Driver's code\n",
    "# Printing CWD before\n",
    "current_path()\n",
    "   \n",
    "# Changing the CWD\n",
    "os.chdir('../')\n",
    "   \n",
    "# Printing CWD after\n",
    "current_path()"
   ]
  },
  {
   "cell_type": "code",
   "execution_count": 16,
   "id": "efe5ffce",
   "metadata": {},
   "outputs": [
    {
     "name": "stdout",
     "output_type": "stream",
     "text": [
      "Directory 'downloads' created\n"
     ]
    },
    {
     "ename": "FileNotFoundError",
     "evalue": "[Errno 2] No such file or directory: '/Users/pankaj/Desktop/internship projects/Geeks'",
     "output_type": "error",
     "traceback": [
      "\u001b[0;31m---------------------------------------------------------------------------\u001b[0m",
      "\u001b[0;31mFileNotFoundError\u001b[0m                         Traceback (most recent call last)",
      "\u001b[0;32m<ipython-input-16-f8c229cd9565>\u001b[0m in \u001b[0;36m<module>\u001b[0;34m\u001b[0m\n\u001b[1;32m     32\u001b[0m \u001b[0;31m# '/home / User / Documents'\u001b[0m\u001b[0;34m\u001b[0m\u001b[0;34m\u001b[0m\u001b[0;34m\u001b[0m\u001b[0m\n\u001b[1;32m     33\u001b[0m \u001b[0;31m# with mode 0o666\u001b[0m\u001b[0;34m\u001b[0m\u001b[0;34m\u001b[0m\u001b[0;34m\u001b[0m\u001b[0m\n\u001b[0;32m---> 34\u001b[0;31m \u001b[0mos\u001b[0m\u001b[0;34m.\u001b[0m\u001b[0mmkdir\u001b[0m\u001b[0;34m(\u001b[0m\u001b[0mpath\u001b[0m\u001b[0;34m,\u001b[0m \u001b[0mmode\u001b[0m\u001b[0;34m)\u001b[0m\u001b[0;34m\u001b[0m\u001b[0;34m\u001b[0m\u001b[0m\n\u001b[0m\u001b[1;32m     35\u001b[0m \u001b[0mprint\u001b[0m\u001b[0;34m(\u001b[0m\u001b[0;34m\"Directory '% s' created\"\u001b[0m \u001b[0;34m%\u001b[0m \u001b[0mdirectory\u001b[0m\u001b[0;34m)\u001b[0m\u001b[0;34m\u001b[0m\u001b[0;34m\u001b[0m\u001b[0m\n",
      "\u001b[0;31mFileNotFoundError\u001b[0m: [Errno 2] No such file or directory: '/Users/pankaj/Desktop/internship projects/Geeks'"
     ]
    }
   ],
   "source": [
    "import os\n",
    " \n",
    "# Directory\n",
    "directory = \"downloads\"\n",
    " \n",
    "# Parent Directory path\n",
    "parent_dir = \"/Users/pankaj/Desktop/\"\n",
    " \n",
    "# Path\n",
    "path = os.path.join(parent_dir, directory)\n",
    " \n",
    "# Create the directory\n",
    "# 'GeeksForGeeks' in\n",
    "# '/home / User / Documents'\n",
    "os.mkdir(path)\n",
    "print(\"Directory '% s' created\" % directory)\n",
    " \n",
    "# Directory\n",
    "directory = \"amity \"\n",
    " \n",
    "# Parent Directory path\n",
    "parent_dir = \"/Users/pankaj/Desktop/internship projects\"\n",
    " \n",
    "# mode\n",
    "mode = 0o666\n",
    " \n",
    "# Path\n",
    "path = os.path.join(parent_dir, directory)\n",
    " \n",
    "# Create the directory\n",
    "# 'GeeksForGeeks' in\n",
    "# '/home / User / Documents'\n",
    "# with mode 0o666\n",
    "os.mkdir(path, mode)\n",
    "print(\"Directory '% s' created\" % directory)"
   ]
  },
  {
   "cell_type": "code",
   "execution_count": 8,
   "id": "2634bd87",
   "metadata": {},
   "outputs": [
    {
     "name": "stdout",
     "output_type": "stream",
     "text": [
      "Directory 'Nikhil' created\n",
      "Directory 'c' created\n"
     ]
    }
   ],
   "source": [
    "# Leaf directory\n",
    "directory = \"Nikhil\"\n",
    "     \n",
    "# Parent Directories\n",
    "parent_dir = \"D:/Pycharm projects/GeeksForGeeks/Authors\"\n",
    "     \n",
    "# Path\n",
    "path = os.path.join(parent_dir, directory)\n",
    "     \n",
    "# Create the directory\n",
    "# 'Nikhil'\n",
    "os.makedirs(path)\n",
    "print(\"Directory '% s' created\" % directory)\n",
    "     \n",
    "# Directory 'GeeksForGeeks' and 'Authors' will\n",
    "# be created too\n",
    "# if it does not exists\n",
    "     \n",
    "     \n",
    "     \n",
    "# Leaf directory\n",
    "directory = \"c\"\n",
    "     \n",
    "# Parent Directories\n",
    "parent_dir = \"D:/Pycharm projects/GeeksforGeeks/a/b\"\n",
    "     \n",
    "# mode\n",
    "mode = 0o666\n",
    "     \n",
    "path = os.path.join(parent_dir, directory)\n",
    "     \n",
    "# Create the directory 'c'\n",
    "     \n",
    "os.makedirs(path, mode)\n",
    "print(\"Directory '% s' created\" % directory)\n",
    "     \n",
    "     \n",
    "# 'GeeksForGeeks', 'a', and 'b'\n",
    "# will also be created if\n",
    "# it does not exists\n",
    "     \n",
    "# If any of the intermediate level\n",
    "# directory is missing\n",
    "# os.makedirs() method will\n",
    "# create them\n",
    "     \n",
    "# os.makedirs() method can be\n",
    "# used to create a directory tree"
   ]
  },
  {
   "cell_type": "code",
   "execution_count": 9,
   "id": "4718ac01",
   "metadata": {},
   "outputs": [
    {
     "name": "stdout",
     "output_type": "stream",
     "text": [
      "Files and directories in ' / ' :\n",
      "['home', 'usr', 'bin', 'sbin', '.file', 'etc', 'var', 'Library', 'System', '.VolumeIcon.icns', 'private', '.vol', 'Users', 'Applications', 'opt', 'dev', 'Volumes', 'tmp', 'cores']\n"
     ]
    }
   ],
   "source": [
    "# Python program to explain os.listdir() method\n",
    "     \n",
    "# importing os module\n",
    "import os\n",
    " \n",
    "# Get the list of all files and directories\n",
    "# in the root directory\n",
    "path = \"/\"\n",
    "dir_list = os.listdir(path)\n",
    " \n",
    "print(\"Files and directories in '\", path, \"' :\")\n",
    " \n",
    "# print the list\n",
    "print(dir_list)"
   ]
  },
  {
   "cell_type": "code",
   "execution_count": 10,
   "id": "6c710bb7",
   "metadata": {},
   "outputs": [
    {
     "ename": "SyntaxError",
     "evalue": "unmatched ')' (<ipython-input-10-5d70bd33fb5f>, line 18)",
     "output_type": "error",
     "traceback": [
      "\u001b[0;36m  File \u001b[0;32m\"<ipython-input-10-5d70bd33fb5f>\"\u001b[0;36m, line \u001b[0;32m18\u001b[0m\n\u001b[0;31m    e)\u001b[0m\n\u001b[0m     ^\u001b[0m\n\u001b[0;31mSyntaxError\u001b[0m\u001b[0;31m:\u001b[0m unmatched ')'\n"
     ]
    }
   ],
   "source": [
    "# Python program to explain os.remove() method\n",
    "     \n",
    "# importing os module\n",
    "import os\n",
    "     \n",
    "# File name\n",
    "file = 'file1.txt'\n",
    "     \n",
    "# File location\n",
    "location = \"D:/Pycharm projects/GeeksforGeeks/Authors/Nikhil/\"\n",
    "     \n",
    "# Path\n",
    "path = os.path.join(location, file)\n",
    "     \n",
    "# Remove the file\n",
    "# 'file.txt'\n",
    "os.remove(path)\n",
    "e)"
   ]
  },
  {
   "cell_type": "code",
   "execution_count": 11,
   "id": "d19a18bd",
   "metadata": {},
   "outputs": [
    {
     "ename": "FileNotFoundError",
     "evalue": "[Errno 2] No such file or directory: 'D:/Pycharm projects/Geeks'",
     "output_type": "error",
     "traceback": [
      "\u001b[0;31m---------------------------------------------------------------------------\u001b[0m",
      "\u001b[0;31mFileNotFoundError\u001b[0m                         Traceback (most recent call last)",
      "\u001b[0;32m<ipython-input-11-22577771b537>\u001b[0m in \u001b[0;36m<module>\u001b[0;34m\u001b[0m\n\u001b[1;32m     15\u001b[0m \u001b[0;31m# Remove the Directory\u001b[0m\u001b[0;34m\u001b[0m\u001b[0;34m\u001b[0m\u001b[0;34m\u001b[0m\u001b[0m\n\u001b[1;32m     16\u001b[0m \u001b[0;31m# \"Geeks\"\u001b[0m\u001b[0;34m\u001b[0m\u001b[0;34m\u001b[0m\u001b[0;34m\u001b[0m\u001b[0m\n\u001b[0;32m---> 17\u001b[0;31m \u001b[0mos\u001b[0m\u001b[0;34m.\u001b[0m\u001b[0mrmdir\u001b[0m\u001b[0;34m(\u001b[0m\u001b[0mpath\u001b[0m\u001b[0;34m)\u001b[0m\u001b[0;34m\u001b[0m\u001b[0;34m\u001b[0m\u001b[0m\n\u001b[0m",
      "\u001b[0;31mFileNotFoundError\u001b[0m: [Errno 2] No such file or directory: 'D:/Pycharm projects/Geeks'"
     ]
    }
   ],
   "source": [
    "# Python program to explain os.rmdir() method\n",
    "     \n",
    "# importing os module\n",
    "import os\n",
    "     \n",
    "# Directory name\n",
    "directory = \"Geeks\"\n",
    "     \n",
    "# Parent Directory\n",
    "parent = \"D:/Pycharm projects/\"\n",
    "     \n",
    "# Path\n",
    "path = os.path.join(parent, directory)\n",
    "     \n",
    "# Remove the Directory\n",
    "# \"Geeks\"\n",
    "os.rmdir(path)"
   ]
  },
  {
   "cell_type": "code",
   "execution_count": 12,
   "id": "dfade4a2",
   "metadata": {},
   "outputs": [
    {
     "name": "stdout",
     "output_type": "stream",
     "text": [
      "Problem reading: GFG.txt\n"
     ]
    },
    {
     "name": "stderr",
     "output_type": "stream",
     "text": [
      "<ipython-input-12-c305fb53007c>:8: DeprecationWarning: 'U' mode is deprecated\n",
      "  f = open(filename, 'rU')\n"
     ]
    }
   ],
   "source": [
    "import os\n",
    " \n",
    " \n",
    "try:\n",
    "    # If the file does not exist,\n",
    "    # then it would throw an IOError\n",
    "    filename = 'GFG.txt'\n",
    "    f = open(filename, 'rU')\n",
    "    text = f.read()\n",
    "    f.close()\n",
    " \n",
    "# Control jumps directly to here if\n",
    "# any of the above lines throws IOError.   \n",
    "except IOError:\n",
    " \n",
    "    # print(os.error) will <class 'OSError'>\n",
    "    print('Problem reading: ' + filename)\n",
    "     \n",
    "# In any case, the code then continues with\n",
    "# the line after the try/except"
   ]
  },
  {
   "cell_type": "code",
   "execution_count": 13,
   "id": "cacc8ddc",
   "metadata": {},
   "outputs": [
    {
     "name": "stdout",
     "output_type": "stream",
     "text": [
      "Hello\n"
     ]
    },
    {
     "data": {
      "text/plain": [
       "5"
      ]
     },
     "execution_count": 13,
     "metadata": {},
     "output_type": "execute_result"
    }
   ],
   "source": [
    "import os\n",
    "fd = \"GFG.txt\"\n",
    "\n",
    "# popen() is similar to open()\n",
    "file = open(fd, 'w')\n",
    "file.write(\"Hello\")\n",
    "file.close()\n",
    "file = open(fd, 'r')\n",
    "text = file.read()\n",
    "print(text)\n",
    "\n",
    "# popen() provides a pipe/gateway and accesses the file directly\n",
    "file = os.popen(fd, 'w')\n",
    "file.write(\"Hello\")\n",
    "# File not closed, shown in next function.\n",
    "\n"
   ]
  },
  {
   "cell_type": "code",
   "execution_count": 14,
   "id": "5a48881b",
   "metadata": {},
   "outputs": [
    {
     "name": "stdout",
     "output_type": "stream",
     "text": [
      "Hello\n"
     ]
    },
    {
     "ename": "TypeError",
     "evalue": "an integer is required (got type _io.TextIOWrapper)",
     "output_type": "error",
     "traceback": [
      "\u001b[0;31m---------------------------------------------------------------------------\u001b[0m",
      "\u001b[0;31mTypeError\u001b[0m                                 Traceback (most recent call last)",
      "\u001b[0;32m<ipython-input-14-8b0775bc8f2e>\u001b[0m in \u001b[0;36m<module>\u001b[0;34m\u001b[0m\n\u001b[1;32m      6\u001b[0m \u001b[0mtext\u001b[0m \u001b[0;34m=\u001b[0m \u001b[0mfile\u001b[0m\u001b[0;34m.\u001b[0m\u001b[0mread\u001b[0m\u001b[0;34m(\u001b[0m\u001b[0;34m)\u001b[0m\u001b[0;34m\u001b[0m\u001b[0;34m\u001b[0m\u001b[0m\n\u001b[1;32m      7\u001b[0m \u001b[0mprint\u001b[0m\u001b[0;34m(\u001b[0m\u001b[0mtext\u001b[0m\u001b[0;34m)\u001b[0m\u001b[0;34m\u001b[0m\u001b[0;34m\u001b[0m\u001b[0m\n\u001b[0;32m----> 8\u001b[0;31m \u001b[0mos\u001b[0m\u001b[0;34m.\u001b[0m\u001b[0mclose\u001b[0m\u001b[0;34m(\u001b[0m\u001b[0mfile\u001b[0m\u001b[0;34m)\u001b[0m\u001b[0;34m\u001b[0m\u001b[0;34m\u001b[0m\u001b[0m\n\u001b[0m\u001b[1;32m      9\u001b[0m \u001b[0;34m\u001b[0m\u001b[0m\n",
      "\u001b[0;31mTypeError\u001b[0m: an integer is required (got type _io.TextIOWrapper)"
     ]
    }
   ],
   "source": [
    "import os\n",
    "\n",
    "\n",
    "fd = \"GFG.txt\"\n",
    "file = open(fd, 'r')\n",
    "text = file.read()\n",
    "print(text)\n",
    "os.close(file)\n",
    "\n"
   ]
  },
  {
   "cell_type": "code",
   "execution_count": 15,
   "id": "4053f0f1",
   "metadata": {},
   "outputs": [
    {
     "ename": "FileNotFoundError",
     "evalue": "[Errno 2] No such file or directory: 'GFG.txt' -> 'New.txt'",
     "output_type": "error",
     "traceback": [
      "\u001b[0;31m---------------------------------------------------------------------------\u001b[0m",
      "\u001b[0;31mFileNotFoundError\u001b[0m                         Traceback (most recent call last)",
      "\u001b[0;32m<ipython-input-15-6059a05fc61c>\u001b[0m in \u001b[0;36m<module>\u001b[0;34m\u001b[0m\n\u001b[1;32m      4\u001b[0m \u001b[0mfd\u001b[0m \u001b[0;34m=\u001b[0m \u001b[0;34m\"GFG.txt\"\u001b[0m\u001b[0;34m\u001b[0m\u001b[0;34m\u001b[0m\u001b[0m\n\u001b[1;32m      5\u001b[0m \u001b[0mos\u001b[0m\u001b[0;34m.\u001b[0m\u001b[0mrename\u001b[0m\u001b[0;34m(\u001b[0m\u001b[0mfd\u001b[0m\u001b[0;34m,\u001b[0m\u001b[0;34m'New.txt'\u001b[0m\u001b[0;34m)\u001b[0m\u001b[0;34m\u001b[0m\u001b[0;34m\u001b[0m\u001b[0m\n\u001b[0;32m----> 6\u001b[0;31m \u001b[0mos\u001b[0m\u001b[0;34m.\u001b[0m\u001b[0mrename\u001b[0m\u001b[0;34m(\u001b[0m\u001b[0mfd\u001b[0m\u001b[0;34m,\u001b[0m\u001b[0;34m'New.txt'\u001b[0m\u001b[0;34m)\u001b[0m\u001b[0;34m\u001b[0m\u001b[0;34m\u001b[0m\u001b[0m\n\u001b[0m\u001b[1;32m      7\u001b[0m \u001b[0;34m\u001b[0m\u001b[0m\n",
      "\u001b[0;31mFileNotFoundError\u001b[0m: [Errno 2] No such file or directory: 'GFG.txt' -> 'New.txt'"
     ]
    }
   ],
   "source": [
    "import os\n",
    "\n",
    "\n",
    "fd = \"GFG.txt\"\n",
    "os.rename(fd,'New.txt')\n",
    "os.rename(fd,'New.txt')\n",
    "\n"
   ]
  },
  {
   "cell_type": "code",
   "execution_count": null,
   "id": "e8136b5e",
   "metadata": {},
   "outputs": [],
   "source": []
  }
 ],
 "metadata": {
  "kernelspec": {
   "display_name": "Python 3",
   "language": "python",
   "name": "python3"
  },
  "language_info": {
   "codemirror_mode": {
    "name": "ipython",
    "version": 3
   },
   "file_extension": ".py",
   "mimetype": "text/x-python",
   "name": "python",
   "nbconvert_exporter": "python",
   "pygments_lexer": "ipython3",
   "version": "3.8.8"
  }
 },
 "nbformat": 4,
 "nbformat_minor": 5
}
